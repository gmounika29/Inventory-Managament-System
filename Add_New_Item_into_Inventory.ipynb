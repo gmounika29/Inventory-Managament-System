{
  "nbformat": 4,
  "nbformat_minor": 0,
  "metadata": {
    "colab": {
      "name": "Add New Item into Inventory.ipynb",
      "provenance": [],
      "collapsed_sections": []
    },
    "kernelspec": {
      "name": "python3",
      "display_name": "Python 3"
    },
    "language_info": {
      "name": "python"
    }
  },
  "cells": [
    {
      "cell_type": "code",
      "metadata": {
        "id": "qKlrzxWbtjMa"
      },
      "source": [
        "op=open(\"record.json\",\"r\")\n",
        "r=op.read()\n",
        "op.close()"
      ],
      "execution_count": 1,
      "outputs": []
    },
    {
      "cell_type": "code",
      "metadata": {
        "id": "dqVlGuLht4lC"
      },
      "source": [
        "import json"
      ],
      "execution_count": 2,
      "outputs": []
    },
    {
      "cell_type": "code",
      "metadata": {
        "id": "2zEU0MXQt4xU"
      },
      "source": [
        "prod=json.loads(r)"
      ],
      "execution_count": 3,
      "outputs": []
    },
    {
      "cell_type": "code",
      "metadata": {
        "colab": {
          "base_uri": "https://localhost:8080/"
        },
        "id": "Q4ElU752t46g",
        "outputId": "9e832837-a8e2-4a67-bb74-a413961e1709"
      },
      "source": [
        "prod"
      ],
      "execution_count": 4,
      "outputs": [
        {
          "output_type": "execute_result",
          "data": {
            "text/plain": [
              "{'3001': {'name': 'chocolates', 'price': 10, 'quant': 79},\n",
              " '3002': {'name': 'ice cream', 'price': 25, 'quant': 55},\n",
              " '3003': {'name': 'pen', 'price': 10, 'quant': 57},\n",
              " '3004': {'name': 'pencil', 'price': 5, 'quant': 63},\n",
              " '3005': {'name': 'carrom board', 'price': 120, 'quant': 24},\n",
              " '3006': {'name': 'shuttle bats', 'price': 100, 'quant': 49},\n",
              " '3007': {'name': 'drinks', 'price': 60, 'quant': 42},\n",
              " '3008': {'name': 'cake', 'price': 20, 'quant': 30},\n",
              " '3009': {'name': 'soaps', 'price': 35, 'quant': 8},\n",
              " '3010': {'name': 'phones', 'price': 2000, 'quant': 24},\n",
              " '3011': {'name': 'televisions', 'price': 3500, 'quant': 10},\n",
              " '3012': {'name': 'bangles', 'price': 50, 'quant': 19},\n",
              " '3013': {'name': 'nail polishs', 'price': 20, 'quant': 78},\n",
              " '3014': {'name': 'tooth brushes', 'price': 40, 'quant': 41},\n",
              " '3015': {'name': 'ear rings', 'price': 67, 'quant': 33},\n",
              " '3016': {'name': 'lipsticks', 'price': 32, 'quant': 30},\n",
              " '3017': {'name': 'phone case', 'price': 150, 'quant': 46},\n",
              " '3018': {'name': 'power bank', 'price': 3400, 'quant': 20},\n",
              " '3019': {'name': 'rings', 'price': 10, 'quant': 43},\n",
              " '3020': {'name': 'chains', 'price': 30, 'quant': 20},\n",
              " '3021': {'name': 'clips', 'price': 5, 'quant': 30},\n",
              " '3022': {'name': 'chairs', 'price': 1032, 'quant': 36},\n",
              " '3023': {'name': 'sofa', 'price': 32132, 'quant': 6},\n",
              " '3024': {'name': 'washing machine', 'price': 53222, 'quant': 3},\n",
              " '3025': {'name': 'laptops', 'price': 48000, 'quant': 2},\n",
              " '3026': {'name': 'AC', 'price': 23232, 'quant': 7},\n",
              " '3027': {'name': 'face packs', 'price': 32, 'quant': 21},\n",
              " '3028': {'name': 'fridge', 'price': 45677, 'quant': 5},\n",
              " '3029': {'name': 'teddy bears', 'price': 300, 'quant': 10},\n",
              " '3030': {'name': 'shampoos', 'price': 3, 'quant': 90},\n",
              " '5': {'name': 'keyboard', 'price': 6567, 'quant': 8}}"
            ]
          },
          "metadata": {},
          "execution_count": 4
        }
      ]
    },
    {
      "cell_type": "code",
      "metadata": {
        "colab": {
          "base_uri": "https://localhost:8080/"
        },
        "id": "4NWJp5Irt492",
        "outputId": "63a61968-9d89-4659-8f1a-090164321895"
      },
      "source": [
        "pr_id=input(\"enter product id\")\n",
        "if pr_id in prod:\n",
        "    quantity=int(input(\"enter quantity\"))\n",
        "    prod[pr_id]['quant']=prod[pr_id]['quant']+quantity\n",
        "else:\n",
        "    name=input(\"enter product name\")\n",
        "    price=int(input(\"enter pric of the product\"))\n",
        "    quantity=int(input(\"enter quantity\"))\n",
        "    prod[pr_id]={'name':name, 'price': price, 'quant': quantity}"
      ],
      "execution_count": 5,
      "outputs": [
        {
          "name": "stdout",
          "output_type": "stream",
          "text": [
            "enter product id7\n",
            "enter product namemouse\n",
            "enter pric of the product6768\n",
            "enter quantity78\n"
          ]
        }
      ]
    },
    {
      "cell_type": "code",
      "metadata": {
        "colab": {
          "base_uri": "https://localhost:8080/"
        },
        "id": "GyzHl8HUt5CG",
        "outputId": "c61cab44-227f-4bd8-c708-818b2fcf4bb1"
      },
      "source": [
        "prod"
      ],
      "execution_count": 6,
      "outputs": [
        {
          "output_type": "execute_result",
          "data": {
            "text/plain": [
              "{'3001': {'name': 'chocolates', 'price': 10, 'quant': 79},\n",
              " '3002': {'name': 'ice cream', 'price': 25, 'quant': 55},\n",
              " '3003': {'name': 'pen', 'price': 10, 'quant': 57},\n",
              " '3004': {'name': 'pencil', 'price': 5, 'quant': 63},\n",
              " '3005': {'name': 'carrom board', 'price': 120, 'quant': 24},\n",
              " '3006': {'name': 'shuttle bats', 'price': 100, 'quant': 49},\n",
              " '3007': {'name': 'drinks', 'price': 60, 'quant': 42},\n",
              " '3008': {'name': 'cake', 'price': 20, 'quant': 30},\n",
              " '3009': {'name': 'soaps', 'price': 35, 'quant': 8},\n",
              " '3010': {'name': 'phones', 'price': 2000, 'quant': 24},\n",
              " '3011': {'name': 'televisions', 'price': 3500, 'quant': 10},\n",
              " '3012': {'name': 'bangles', 'price': 50, 'quant': 19},\n",
              " '3013': {'name': 'nail polishs', 'price': 20, 'quant': 78},\n",
              " '3014': {'name': 'tooth brushes', 'price': 40, 'quant': 41},\n",
              " '3015': {'name': 'ear rings', 'price': 67, 'quant': 33},\n",
              " '3016': {'name': 'lipsticks', 'price': 32, 'quant': 30},\n",
              " '3017': {'name': 'phone case', 'price': 150, 'quant': 46},\n",
              " '3018': {'name': 'power bank', 'price': 3400, 'quant': 20},\n",
              " '3019': {'name': 'rings', 'price': 10, 'quant': 43},\n",
              " '3020': {'name': 'chains', 'price': 30, 'quant': 20},\n",
              " '3021': {'name': 'clips', 'price': 5, 'quant': 30},\n",
              " '3022': {'name': 'chairs', 'price': 1032, 'quant': 36},\n",
              " '3023': {'name': 'sofa', 'price': 32132, 'quant': 6},\n",
              " '3024': {'name': 'washing machine', 'price': 53222, 'quant': 3},\n",
              " '3025': {'name': 'laptops', 'price': 48000, 'quant': 2},\n",
              " '3026': {'name': 'AC', 'price': 23232, 'quant': 7},\n",
              " '3027': {'name': 'face packs', 'price': 32, 'quant': 21},\n",
              " '3028': {'name': 'fridge', 'price': 45677, 'quant': 5},\n",
              " '3029': {'name': 'teddy bears', 'price': 300, 'quant': 10},\n",
              " '3030': {'name': 'shampoos', 'price': 3, 'quant': 90},\n",
              " '5': {'name': 'keyboard', 'price': 6567, 'quant': 8},\n",
              " '7': {'name': 'mouse', 'price': 6768, 'quant': 78}}"
            ]
          },
          "metadata": {},
          "execution_count": 6
        }
      ]
    },
    {
      "cell_type": "code",
      "metadata": {
        "id": "TBH2GlnGt5Fp"
      },
      "source": [
        "js=json.dumps(prod)"
      ],
      "execution_count": 7,
      "outputs": []
    },
    {
      "cell_type": "code",
      "metadata": {
        "id": "ovCTQFtvuh4O"
      },
      "source": [
        "wr=open(\"record.json\",\"w\")\n",
        "wr.write(js)\n",
        "wr.close()"
      ],
      "execution_count": 8,
      "outputs": []
    }
  ]
}